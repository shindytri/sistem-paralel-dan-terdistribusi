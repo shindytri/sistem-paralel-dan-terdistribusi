{
 "cells": [
  {
   "cell_type": "code",
   "execution_count": null,
   "metadata": {},
   "outputs": [
    {
     "name": "stdout",
     "output_type": "stream",
     "text": [
      "creating new instance\n",
      "connecting to broker\n",
      "Subscribing to topic waktu\n",
      "message received  2020/02/27 15:03:35\n",
      "message received  2020/02/27 15:03:36\n",
      "message received  2020/02/27 15:03:37\n",
      "message received  2020/02/27 15:03:38\n",
      "message received  2020/02/27 15:03:39\n",
      "message received  2020/02/27 15:03:40\n",
      "message received  2020/02/27 15:03:41\n",
      "message received  2020/02/27 15:03:42\n",
      "message received  2020/02/27 15:03:43\n",
      "message received  2020/02/27 15:03:44\n",
      "message received  2020/02/27 15:03:45\n",
      "message received  2020/02/27 15:03:46\n",
      "message received  2020/02/27 15:03:47\n",
      "message received  2020/02/27 15:03:48\n",
      "message received  2020/02/27 15:03:49\n",
      "message received  2020/02/27 15:03:50\n",
      "message received  2020/02/27 15:03:51\n",
      "message received  2020/02/27 15:03:52\n",
      "message received  2020/02/27 15:03:53\n"
     ]
    }
   ],
   "source": [
    "# NO 1 CLIENT SUBSCRIBER\n",
    "# import paho mqtt\n",
    "import paho.mqtt.client as mqtt\n",
    "\n",
    "# import time for sleep()\n",
    "import time\n",
    "\n",
    "# buat callback on_message; jika ada pesan\n",
    "# maka fungsi ini akan dipanggil secara asynch\n",
    "########################################\n",
    "def on_message(client, userdata, message):\n",
    "    # print pesan\n",
    "    print(\"message received \" ,str(message.payload.decode(\"utf-8\")))\n",
    "    \n",
    "########################################\n",
    "    \n",
    "# buat definisi nama broker yang akan digunakan\n",
    "broker_address = \"192.168.43.40\"\n",
    "\n",
    "# buat client baru bernama P1\n",
    "print(\"creating new instance\")\n",
    "client = mqtt.Client(\"P5\")\n",
    "\n",
    "# kaitkan callback on_message ke client\n",
    "client.on_message=on_message\n",
    "\n",
    "# buat koneksi ke broker\n",
    "print(\"connecting to broker\")\n",
    "client.connect(broker_address, port=3333)\n",
    "\n",
    "# jalankan loop client\n",
    "client.loop_start()\n",
    "\n",
    "# client melakukan subsribe ke topik 1\n",
    "print(\"Subscribing to topic\",\"waktu\")\n",
    "client.subscribe(\"waktu\")\n",
    "\n",
    "# loop forever\n",
    "while True:\n",
    "    # berikan waktu tunggu 1 detik \n",
    "    time.sleep(1)\n",
    "\n",
    "#stop loop\n",
    "client.loop_stop()"
   ]
  },
  {
   "cell_type": "code",
   "execution_count": null,
   "metadata": {},
   "outputs": [],
   "source": []
  },
  {
   "cell_type": "code",
   "execution_count": null,
   "metadata": {},
   "outputs": [],
   "source": []
  },
  {
   "cell_type": "code",
   "execution_count": null,
   "metadata": {},
   "outputs": [],
   "source": []
  }
 ],
 "metadata": {
  "kernelspec": {
   "display_name": "Python 3",
   "language": "python",
   "name": "python3"
  },
  "language_info": {
   "codemirror_mode": {
    "name": "ipython",
    "version": 3
   },
   "file_extension": ".py",
   "mimetype": "text/x-python",
   "name": "python",
   "nbconvert_exporter": "python",
   "pygments_lexer": "ipython3",
   "version": "3.7.3"
  }
 },
 "nbformat": 4,
 "nbformat_minor": 2
}
